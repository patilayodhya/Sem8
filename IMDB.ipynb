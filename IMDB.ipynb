{
 "cells": [
  {
   "cell_type": "code",
   "execution_count": 1,
   "id": "0880ba2d",
   "metadata": {},
   "outputs": [
    {
     "name": "stdout",
     "output_type": "stream",
     "text": [
      "Downloading data from https://storage.googleapis.com/tensorflow/tf-keras-datasets/imdb.npz\n",
      "17464789/17464789 [==============================] - 163s 9us/step\n"
     ]
    }
   ],
   "source": [
    "import numpy as np\n",
    "from tensorflow import keras\n",
    "from tensorflow.keras.datasets import imdb\n",
    "from tensorflow.keras.models import Sequential\n",
    "from tensorflow.keras.layers import Dense, Embedding, LSTM\n",
    "from tensorflow.keras.preprocessing import sequence\n",
    "\n",
    "# Set the maximum number of words to be used as features\n",
    "max_features = 5000\n",
    "\n",
    "# Load the IMDB dataset\n",
    "(x_train, y_train), (x_test, y_test) = imdb.load_data(num_words=max_features)\n"
   ]
  },
  {
   "cell_type": "code",
   "execution_count": null,
   "id": "bd0b8d3b",
   "metadata": {},
   "outputs": [],
   "source": [
    "maxlen = 200  # Maximum sequence length\n",
    "\n",
    "x_train = sequence.pad_sequences(x_train, maxlen=maxlen)\n",
    "x_test = sequence.pad_sequences(x_test, maxlen=maxlen)\n"
   ]
  },
  {
   "cell_type": "code",
   "execution_count": 5,
   "id": "2133d844",
   "metadata": {},
   "outputs": [
    {
     "name": "stdout",
     "output_type": "stream",
     "text": [
      "Model: \"sequential_1\"\n",
      "_________________________________________________________________\n",
      " Layer (type)                Output Shape              Param #   \n",
      "=================================================================\n",
      " embedding_1 (Embedding)     (None, 200, 128)          640000    \n",
      "                                                                 \n",
      " lstm_1 (LSTM)               (None, 64)                49408     \n",
      "                                                                 \n",
      " dense_1 (Dense)             (None, 1)                 65        \n",
      "                                                                 \n",
      "=================================================================\n",
      "Total params: 689,473\n",
      "Trainable params: 689,473\n",
      "Non-trainable params: 0\n",
      "_________________________________________________________________\n",
      "Epoch 1/5\n",
      "391/391 [==============================] - 75s 188ms/step - loss: 0.4202 - accuracy: 0.8032 - val_loss: 0.3284 - val_accuracy: 0.8621\n",
      "Epoch 2/5\n",
      "391/391 [==============================] - 74s 190ms/step - loss: 0.2740 - accuracy: 0.8905 - val_loss: 0.3189 - val_accuracy: 0.8654\n",
      "Epoch 3/5\n",
      "391/391 [==============================] - 75s 193ms/step - loss: 0.2201 - accuracy: 0.9134 - val_loss: 0.3474 - val_accuracy: 0.8636\n",
      "Epoch 4/5\n",
      "391/391 [==============================] - 75s 191ms/step - loss: 0.1809 - accuracy: 0.9297 - val_loss: 0.3493 - val_accuracy: 0.8620\n",
      "Epoch 5/5\n",
      "391/391 [==============================] - 72s 184ms/step - loss: 0.1603 - accuracy: 0.9386 - val_loss: 0.3896 - val_accuracy: 0.8632\n"
     ]
    },
    {
     "data": {
      "text/plain": [
       "<keras.callbacks.History at 0x1e84b0bfc40>"
      ]
     },
     "execution_count": 5,
     "metadata": {},
     "output_type": "execute_result"
    }
   ],
   "source": [
    "embedding_size = 128  # Embedding dimension\n",
    "hidden_units = 64     # Number of units in the LSTM layer\n",
    "\n",
    "model = Sequential()\n",
    "model.add(Embedding(max_features, embedding_size, input_length=maxlen))\n",
    "model.add(LSTM(hidden_units))\n",
    "model.add(Dense(1, activation='sigmoid'))\n",
    "\n",
    "model.compile(loss='binary_crossentropy', optimizer='adam', metrics=['accuracy'])\n",
    "model.summary()\n",
    "\n",
    "batch_size = 64\n",
    "epochs = 5\n",
    "\n",
    "model.fit(x_train, y_train, batch_size=batch_size, epochs=epochs, validation_data=(x_test, y_test))\n"
   ]
  },
  {
   "cell_type": "code",
   "execution_count": 6,
   "id": "0bb8c94f",
   "metadata": {},
   "outputs": [
    {
     "name": "stdout",
     "output_type": "stream",
     "text": [
      "782/782 [==============================] - 23s 29ms/step - loss: 0.3896 - accuracy: 0.8632\n",
      "Test Accuracy: 86.32%\n"
     ]
    }
   ],
   "source": [
    "loss, accuracy = model.evaluate(x_test, y_test)\n",
    "print(\"Test Accuracy: {:.2f}%\".format(accuracy * 100))\n"
   ]
  },
  {
   "cell_type": "code",
   "execution_count": 7,
   "id": "144ec27b",
   "metadata": {},
   "outputs": [
    {
     "ename": "NameError",
     "evalue": "name 'prediction' is not defined",
     "output_type": "error",
     "traceback": [
      "\u001b[1;31m---------------------------------------------------------------------------\u001b[0m",
      "\u001b[1;31mNameError\u001b[0m                                 Traceback (most recent call last)",
      "\u001b[1;32m~\\AppData\\Local\\Temp\\ipykernel_23836\\2681934675.py\u001b[0m in \u001b[0;36m<module>\u001b[1;34m\u001b[0m\n\u001b[1;32m----> 1\u001b[1;33m \u001b[0mprediction\u001b[0m \u001b[1;33m=\u001b[0m \u001b[0mprediction\u001b[0m\u001b[1;33m[\u001b[0m\u001b[1;36m0\u001b[0m\u001b[1;33m]\u001b[0m\u001b[1;33m\u001b[0m\u001b[1;33m\u001b[0m\u001b[0m\n\u001b[0m",
      "\u001b[1;31mNameError\u001b[0m: name 'prediction' is not defined"
     ]
    }
   ],
   "source": [
    "prediction = prediction[0]"
   ]
  },
  {
   "cell_type": "code",
   "execution_count": null,
   "id": "8f9b4ba6",
   "metadata": {},
   "outputs": [],
   "source": [
    "# Example review for prediction\n",
    "review = \"This movie was excellent\"\n",
    "\n",
    "# Preprocess the review by converting it to a sequence of word indices\n",
    "word_indices = imdb.get_word_index()\n",
    "review_sequence = []\n",
    "for word in review.split():\n",
    "    if word in word_indices and word_indices[word] < max_features:\n",
    "        review_sequence.append(word_indices[word] + 3)  # Add 3 to match the index offset in the IMDB dataset\n",
    "review_sequence = sequence.pad_sequences([review_sequence], maxlen=maxlen)\n",
    "\n",
    "# Make predictions\n",
    "prediction = model.predict(review_sequence)\n",
    "sentiment = \"positive\" if prediction >= 0.5 else \"negative\"\n",
    "confidence = prediction[0] if sentiment == \"positive\" else 1 - prediction[0]\n",
    "confidence = confidence[0]  # Extract scalar value\n",
    "\n",
    "print(\"Review: {}\".format(review))\n",
    "print(\"Sentiment: {}\".format(sentiment))\n",
    "print(\"Confidence: {:.2f}%\".format(confidence * 100))\n"
   ]
  },
  {
   "cell_type": "code",
   "execution_count": null,
   "id": "4b021aa3",
   "metadata": {},
   "outputs": [],
   "source": []
  }
 ],
 "metadata": {
  "kernelspec": {
   "display_name": "Python 3 (ipykernel)",
   "language": "python",
   "name": "python3"
  },
  "language_info": {
   "codemirror_mode": {
    "name": "ipython",
    "version": 3
   },
   "file_extension": ".py",
   "mimetype": "text/x-python",
   "name": "python",
   "nbconvert_exporter": "python",
   "pygments_lexer": "ipython3",
   "version": "3.9.13"
  }
 },
 "nbformat": 4,
 "nbformat_minor": 5
}
